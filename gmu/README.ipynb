{
 "cells": [
  {
   "cell_type": "markdown",
   "metadata": {},
   "source": [
    "- Qualities: 8\n",
    "- Notes: 12\n",
    "- Tensions: 8\n",
    "- Releases: 3\n",
    "- Intervals: 12\n",
    "\n",
    "8 + 12 * (8 + 3) + 12 = 152 tokens (flash cards)\n",
    "\n",
    "Asked during Intervals: B is #11 of... \n",
    "\n",
    "What came to mind was \"Pretty women\" from Sweeney Todd.\n",
    "\n",
    "I last listened to it at 4:12pm on March 2, 2013 (according to iTunes), 10 years ago!\n",
    "\n",
    "Thanks to Gospel Music University I now can say the following:\n",
    "\n",
    "> *We shall not cease from exploration And the end of all our exploring Will be to arrive where we started And know the place for the first time. - T.S. Eliot in Little Gidding*"
   ]
  }
 ],
 "metadata": {
  "kernelspec": {
   "display_name": "base",
   "language": "python",
   "name": "python3"
  },
  "language_info": {
   "codemirror_mode": {
    "name": "ipython",
    "version": 3
   },
   "file_extension": ".py",
   "mimetype": "text/x-python",
   "name": "python",
   "nbconvert_exporter": "python",
   "pygments_lexer": "ipython3",
   "version": "3.11.4"
  },
  "orig_nbformat": 4
 },
 "nbformat": 4,
 "nbformat_minor": 2
}
