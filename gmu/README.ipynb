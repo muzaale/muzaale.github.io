- Qualities: 8
- Notes: 12
- Tensions: 8
- Releases: 3
- Intervals: 12

8 + 12 * (8 + 3) + 12 = 152 tokens (flash cards)

Asked during Intervals: B is #11 of... 

What came to mind was "Pretty women" from Sweeney Todd.

I last listened to it at 4:12pm on March 2, 2013 (according to iTunes), 10 years ago!

Thanks to Gospel Music University I now can say the following:

> *We shall not cease from exploration
And the end of all our exploring
Will be to arrive where we started
And know the place for the first time. - T.S. Eliot in Little Gidding*
